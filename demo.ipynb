{
 "cells": [
  {
   "cell_type": "code",
   "execution_count": 1,
   "metadata": {
    "collapsed": false,
    "deletable": true,
    "editable": true
   },
   "outputs": [],
   "source": [
    "%matplotlib inline\n",
    "%load_ext autoreload\n",
    "%autoreload 2\n",
    "\n",
    "import model\n",
    "import torch\n",
    "import numpy as np\n",
    "import functools\n",
    "import utils\n",
    "from voc2012_dataset.dataset import VOC2012ClassSegmentation\n",
    "\n",
    "torch.set_default_tensor_type('torch.DoubleTensor')\n",
    "device = torch.device(\"cuda\")"
   ]
  },
  {
   "cell_type": "code",
   "execution_count": 2,
   "metadata": {
    "collapsed": false,
    "deletable": true,
    "editable": true
   },
   "outputs": [],
   "source": [
    "_input = np.random.rand(3, 512, 512).astype(np.float64)\n",
    "_input = torch.tensor(_input, dtype=torch.float64, device=device).unsqueeze(0)"
   ]
  },
  {
   "cell_type": "code",
   "execution_count": 3,
   "metadata": {
    "collapsed": false,
    "deletable": true,
    "editable": true
   },
   "outputs": [],
   "source": [
    "resnet = model.ResNet50().to(device)\n",
    "fpn = model.FPN(*resnet.layers(), out_planes=256).to(device)\n",
    "rpn = model.RPN(256, 512).to(device)\n",
    "\n",
    "fpn_feature_maps = fpn(_input)\n",
    "rpn_regions = []\n",
    "for o in fpn_feature_maps:\n",
    "    rpn_regions.append( rpn(o) )"
   ]
  },
  {
   "cell_type": "code",
   "execution_count": 4,
   "metadata": {
    "collapsed": false,
    "deletable": true,
    "editable": true
   },
   "outputs": [],
   "source": [
    "# bbox_delta, class_logits, softmax, flatten rpn_regions\n",
    "bbox_delta, class_logits, softmax = zip(*rpn_regions)\n",
    "\n",
    "def merge(x, y):\n",
    "    return torch.cat( (x, y), dim=1 )\n",
    "\n",
    "bbox_delta = functools.reduce(merge, bbox_delta[1:], bbox_delta[0])\n",
    "score = functools.reduce(merge, class_logits[1:], class_logits[0])\n",
    "class_logits = functools.reduce(merge, class_logits[1:], class_logits[0])"
   ]
  },
  {
   "cell_type": "markdown",
   "metadata": {
    "deletable": true,
    "editable": true
   },
   "source": [
    "### Get default anchors\n",
    "\n",
    "Now we have bbox_delta and relative score from RPN, we should generate anchors and apply the RPN result to them.\n",
    "\n",
    "**Important** make sure everything is generated from bottom to up in the FPN, and the size generated from RPN should be the same as anchors."
   ]
  },
  {
   "cell_type": "code",
   "execution_count": 5,
   "metadata": {
    "collapsed": false,
    "deletable": true,
    "editable": true
   },
   "outputs": [],
   "source": [
    "scales = [4, 8, 16, 32]\n",
    "ratios = [0.5, 1, 2]\n",
    "feature_strides =[4, 8, 16, 32]\n",
    "input_image_shape = 512\n",
    "anchors = torch.tensor(utils.generate_pyramid_anchors(scales, ratios, input_image_shape, feature_strides), dtype=torch.float64, device=device)\n",
    "# make sure the size is the same! and generate everything from bottom to up"
   ]
  },
  {
   "cell_type": "markdown",
   "metadata": {
    "deletable": true,
    "editable": true
   },
   "source": [
    "### Generate RoIs.\n",
    "\n",
    "Generate Regions of Interest, the process is: combine the output of `RPN` and anchors we got by `generate_pyramid_anchors` to get the final `fixed sized`, `refined` anchors. The anchors filter process involves the `nms`."
   ]
  },
  {
   "cell_type": "code",
   "execution_count": 6,
   "metadata": {
    "collapsed": false,
    "deletable": true,
    "editable": true,
    "scrolled": true
   },
   "outputs": [],
   "source": [
    "# output: [1, size_of_anchors, 4]\n",
    "rp = model.RegionProposal()\n",
    "rois = rp.forward(bbox_delta, score, anchors)"
   ]
  },
  {
   "cell_type": "markdown",
   "metadata": {
    "collapsed": true,
    "deletable": true,
    "editable": true
   },
   "source": [
    "### Generate Target\n",
    "Using output of RoI and ground truth bbox, class, mask to generate targets, which will used to compute the loss."
   ]
  },
  {
   "cell_type": "code",
   "execution_count": 7,
   "metadata": {
    "collapsed": false,
    "deletable": true,
    "editable": true
   },
   "outputs": [],
   "source": [
    "gen_targets = model.GenerateTarget()\n",
    "voc_dataset = VOC2012ClassSegmentation('/home/louis/datasets/VOCdevkit/VOC2012')\n",
    "\n",
    "image, bboxes, labels, bbox_masks = voc_dataset[5]\n",
    "\n",
    "image = torch.tensor(image, device=device, dtype=torch.float64)\n",
    "bboxes = torch.tensor(bboxes, device=device, dtype=torch.float64)\n",
    "labels = torch.tensor(labels, device=device, dtype=torch.float64)\n",
    "bbox_masks = torch.tensor(bbox_masks, device=device, dtype=torch.float64)"
   ]
  },
  {
   "cell_type": "code",
   "execution_count": 8,
   "metadata": {
    "collapsed": false,
    "deletable": true,
    "editable": true
   },
   "outputs": [],
   "source": [
    "generate_rpn_targets = model.GenerateRPNTargets()\n",
    "rpn_class, rpn_bounding_delta = generate_rpn_targets.forward(anchors, bboxes)"
   ]
  },
  {
   "cell_type": "code",
   "execution_count": 9,
   "metadata": {
    "collapsed": false,
    "deletable": true,
    "editable": true
   },
   "outputs": [],
   "source": [
    "rois, bbox, mask, classes = gen_targets.forward(rois, bboxes, bbox_masks, labels) "
   ]
  },
  {
   "cell_type": "code",
   "execution_count": 10,
   "metadata": {
    "collapsed": false,
    "deletable": true,
    "editable": true
   },
   "outputs": [
    {
     "name": "stdout",
     "output_type": "stream",
     "text": [
      "torch.Size([48, 4])\n",
      "torch.Size([48, 4])\n",
      "torch.Size([48, 28, 28])\n",
      "torch.Size([48])\n"
     ]
    }
   ],
   "source": [
    "print(rois.size())\n",
    "print(bbox.size())\n",
    "print(mask.size())\n",
    "print(classes.size())"
   ]
  },
  {
   "cell_type": "markdown",
   "metadata": {
    "collapsed": true,
    "deletable": true,
    "editable": true
   },
   "source": [
    "### Predict!!\n",
    "\n",
    "Now we have all the rois and corresponding ground truth, it's time to do predictions.\n",
    "\n",
    "We'll reuse the feature maps from FPN, predict bbox delta, corresponding class, and mask on each RoI, by using 2 different parallel networks."
   ]
  },
  {
   "cell_type": "code",
   "execution_count": 11,
   "metadata": {
    "collapsed": false,
    "deletable": true,
    "editable": true
   },
   "outputs": [],
   "source": [
    "cls_and_reg = model.ClsAndReg(21).to(device)\n",
    "\n",
    "mrcnn_class_logits, mrcnn_probs, mrcnn_bbox = cls_and_reg(fpn_feature_maps, rois)"
   ]
  },
  {
   "cell_type": "code",
   "execution_count": 13,
   "metadata": {
    "collapsed": false,
    "deletable": true,
    "editable": true
   },
   "outputs": [],
   "source": [
    "Mask = model.MaskPredict(21).to(device)\n",
    "preds = Mask(fpn_feature_maps, rois)"
   ]
  },
  {
   "cell_type": "markdown",
   "metadata": {
    "collapsed": false,
    "deletable": true,
    "editable": true
   },
   "source": [
    "### Now it's time to compute loss!"
   ]
  },
  {
   "cell_type": "code",
   "execution_count": 19,
   "metadata": {
    "collapsed": false,
    "deletable": true,
    "editable": true
   },
   "outputs": [],
   "source": [
    "rpn_class_loss = model.compute_rpn_class_loss(rpn_class, class_logits)"
   ]
  },
  {
   "cell_type": "code",
   "execution_count": 20,
   "metadata": {
    "collapsed": false,
    "deletable": true,
    "editable": true
   },
   "outputs": [],
   "source": [
    "rpn_bbox_loss = model.compute_rpn_bbox_loss(rpn_bounding_delta, bbox_delta, rpn_class)"
   ]
  },
  {
   "cell_type": "code",
   "execution_count": 21,
   "metadata": {
    "collapsed": false,
    "deletable": true,
    "editable": true
   },
   "outputs": [],
   "source": [
    "classes = classes.long()\n",
    "mrcnn_class_loss = model.compute_mrcnn_class_loss(  classes, mrcnn_class_logits )"
   ]
  },
  {
   "cell_type": "code",
   "execution_count": 22,
   "metadata": {
    "collapsed": false,
    "deletable": true,
    "editable": true
   },
   "outputs": [],
   "source": [
    "mrcnn_bbox_loss = model.compute_mrcnn_bbox_loss(bbox, classes, mrcnn_bbox)"
   ]
  },
  {
   "cell_type": "code",
   "execution_count": 23,
   "metadata": {
    "collapsed": false,
    "deletable": true,
    "editable": true
   },
   "outputs": [],
   "source": [
    "mrcnn_mask_loss = model.compute_mrcnn_mask_loss(mask, classes, preds)"
   ]
  },
  {
   "cell_type": "code",
   "execution_count": null,
   "metadata": {
    "collapsed": true
   },
   "outputs": [],
   "source": []
  },
  {
   "cell_type": "code",
   "execution_count": null,
   "metadata": {
    "collapsed": true
   },
   "outputs": [],
   "source": []
  }
 ],
 "metadata": {
  "kernelspec": {
   "display_name": "Python 3",
   "language": "python",
   "name": "python3"
  },
  "language_info": {
   "codemirror_mode": {
    "name": "ipython",
    "version": 3
   },
   "file_extension": ".py",
   "mimetype": "text/x-python",
   "name": "python",
   "nbconvert_exporter": "python",
   "pygments_lexer": "ipython3",
   "version": "3.6.2"
  }
 },
 "nbformat": 4,
 "nbformat_minor": 2
}
